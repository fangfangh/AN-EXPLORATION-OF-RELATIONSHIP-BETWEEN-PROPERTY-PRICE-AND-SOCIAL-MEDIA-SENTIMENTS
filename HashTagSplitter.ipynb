{
 "cells": [
  {
   "cell_type": "code",
   "execution_count": 44,
   "metadata": {},
   "outputs": [
    {
     "name": "stdout",
     "output_type": "stream",
     "text": [
      "[nltk_data] Downloading package words to /Users/apple/nltk_data...\n",
      "[nltk_data]   Package words is already up-to-date!\n"
     ]
    }
   ],
   "source": [
    "import nltk\n",
    "from nltk.corpus import words, brown\n",
    "nltk.download('words')\n",
    "word_dictionary = list(set(words.words()))\n",
    "\n",
    "from collections import Counter"
   ]
  },
  {
   "cell_type": "code",
   "execution_count": 47,
   "metadata": {},
   "outputs": [],
   "source": [
    "from nltk import bigrams \n",
    "from nltk.stem import  WordNetLemmatizer \n",
    "from collections import Counter\n",
    "from nltk.corpus import stopwords\n",
    "import string\n",
    "import re\n",
    "import json\n",
    " \n",
    "lemmatiser = WordNetLemmatizer()\n",
    "\n",
    "#abbrevs={\"won't\":\"will not\",\"i'm\":\"i am\",\"don't\":\"do not\",\"doesn't\":\"does not\",\"isn't\":\"is not\",\"i'll\":\"i will\"}\n",
    "\n",
    "punctuation = list(string.punctuation)\n",
    "stop = stopwords.words('english') + punctuation + ['RT','rt','VIA', 'via']\n",
    "\n",
    "emoticons_str = r\"\"\"\n",
    "    (?:\n",
    "        [:=;] # Eyes\n",
    "        [oO\\-]? # Nose (optional)\n",
    "        [D\\)\\]\\(\\]/\\\\OpP] # Mouth\n",
    "    )\"\"\"\n",
    " \n",
    "regex_str = [\n",
    "    emoticons_str,\n",
    "    r'<[^>]+>', # HTML tags\n",
    "    r'(?:@[\\w_]+)', # @-mentions\n",
    "    r\"(?:\\#+[\\w_]+[\\w\\'_\\-]*[\\w_]+)\", # hash-tags\n",
    "    r'http[s]?://(?:[a-z]|[0-9]|[$-_@.&amp;+]|[!*\\(\\),]|(?:%[0-9a-f][0-9a-f]))+', # URLs\n",
    "    r'(?:(?:\\d+,?)+(?:\\.?\\d+)?)', # numbers\n",
    "    r\"(?:[a-z][a-z'\\-_]+[a-z])\", # words with - and '\n",
    "    r'(?:[\\w_]+)', # other words\n",
    "    r'(?:\\S)' # anything else\n",
    "]\n",
    "    \n",
    "tokens_re = re.compile(r'('+'|'.join(regex_str)+')', re.VERBOSE | re.IGNORECASE)\n",
    "emoticon_re = re.compile(r'^'+emoticons_str+'$', re.VERBOSE | re.IGNORECASE)\n",
    "def normalization(s,arra):\n",
    "    tokens = preprocess(s)\n",
    "    count = 0\n",
    "    count2 =0\n",
    "    str = []\n",
    "    for token in tokens:\n",
    "        #canonicalization of text\n",
    "        value =lemmatiser.lemmatize(token, pos=\"v\")\n",
    "        value1 =lemmatiser.lemmatize(value)\n",
    "        value2 = value1.encode('utf8') \n",
    "        #converting the entire text into lowercase\n",
    "        value2 = value2.lower() \n",
    "        #expanding abbreviations\n",
    "        \"\"\"\n",
    "        for abbrev in abbrevs:\n",
    "            value2= value2.replace(abbrev,abbrevs[abbrev])\n",
    "        \"\"\"\n",
    "        pattern = re.compile('http[s]?://(?:[a-z]|[0-9]|[$-_@.&amp;+]|[!*\\(\\),]|(?:%[0-9a-f][0-9a-f]))+' )\n",
    "        if not pattern.match(value2):\n",
    "            if value2 not in arra: \n",
    "                str.append(value2)\n",
    "        \n",
    "    \n",
    "    return str\n",
    "def tokenize(s):\n",
    "    return tokens_re.findall(s)\n",
    "\n",
    "    return s\n",
    "def preprocess(s, lowercase=False): \n",
    "    tokens = tokenize(s) \n",
    "    if lowercase:\n",
    "        tokens = [token if emoticon_re.search(token) else token.lower() for token in tokens]\n",
    "    return tokens "
   ]
  },
  {
   "cell_type": "code",
   "execution_count": 3,
   "metadata": {},
   "outputs": [],
   "source": [
    "for alphabet in \"bcdefghjklmnopqrstuvwxyz\":\n",
    "    word_dictionary.remove(alphabet)\n",
    "\n"
   ]
  },
  {
   "cell_type": "code",
   "execution_count": 4,
   "metadata": {},
   "outputs": [],
   "source": [
    "def split_hashtag_to_words_all_possibilities(hashtag):\n",
    "    all_possibilities = []\n",
    "        \n",
    "    split_posibility = [hashtag[:i] in word_dictionary for i in reversed(range(len(hashtag)+1))]\n",
    "    possible_split_positions = [i for i, x in enumerate(split_posibility) if x == True]\n",
    "\n",
    "    for split_pos in possible_split_positions:\n",
    "        split_words = []\n",
    "        word_1, word_2 = hashtag[:len(hashtag)-split_pos], hashtag[len(hashtag)-split_pos:]\n",
    "\n",
    "        if word_2 in word_dictionary:\n",
    "            split_words.append(word_1)\n",
    "            split_words.append(word_2)\n",
    "            all_possibilities.append(split_words)\n",
    "\n",
    "            another_round = split_hashtag_to_words_all_possibilities(word_2)\n",
    " \n",
    "            if len(another_round) > 0:\n",
    "                 all_possibilities = all_possibilities + [[a1] + a2 for a1, a2, in zip([word_1]*len(another_round), another_round)]\n",
    "        else:\n",
    "            another_round = split_hashtag_to_words_all_possibilities(word_2)\n",
    " \n",
    "            if len(another_round) > 0:\n",
    "                all_possibilities = all_possibilities + [[a1] + a2 for a1, a2, in zip([word_1]*len(another_round), another_round)]\n",
    "\n",
    "    return all_possibilities"
   ]
  },
  {
   "cell_type": "code",
   "execution_count": null,
   "metadata": {},
   "outputs": [],
   "source": [
    "split_tag=[]\n",
    "with open('property-view-perth.json' ,'r') as nf:\n",
    "    for line in nf:\n",
    "        split = split_hashtag_to_words_all_possibilities(ins)\n",
    "        print(split[0])\n",
    "        \n",
    "        "
   ]
  },
  {
   "cell_type": "code",
   "execution_count": 51,
   "metadata": {},
   "outputs": [],
   "source": [
    "value = split_hashtag_to_words_all_possibilities(\"house\")"
   ]
  },
  {
   "cell_type": "code",
   "execution_count": 52,
   "metadata": {},
   "outputs": [
    {
     "name": "stdout",
     "output_type": "stream",
     "text": [
      "[['ho', 'use'], ['ho', 'us', 'e'], ['ho', 'u', 'se'], ['ho', 'u', 's', 'e'], ['h', 'o', 'use'], ['h', 'o', 'us', 'e'], ['h', 'o', 'u', 'se'], ['h', 'o', 'u', 's', 'e']]\n"
     ]
    }
   ],
   "source": [
    "print(value)"
   ]
  },
  {
   "cell_type": "code",
   "execution_count": 53,
   "metadata": {},
   "outputs": [
    {
     "name": "stdout",
     "output_type": "stream",
     "text": [
      "['ho', 'use']\n"
     ]
    }
   ],
   "source": [
    "print(value[0])"
   ]
  },
  {
   "cell_type": "code",
   "execution_count": 49,
   "metadata": {},
   "outputs": [],
   "source": [
    "count_all = Counter()\n",
    "count_bigram = Counter()\n",
    "f = open('property-view-perth.json', 'r')\n",
    "lines = f.read()"
   ]
  },
  {
   "cell_type": "code",
   "execution_count": 55,
   "metadata": {},
   "outputs": [
    {
     "name": "stdout",
     "output_type": "stream",
     "text": [
      "[]\n"
     ]
    },
    {
     "ename": "IndexError",
     "evalue": "list index out of range",
     "output_type": "error",
     "traceback": [
      "\u001b[0;31m---------------------------------------------------------------------------\u001b[0m",
      "\u001b[0;31mIndexError\u001b[0m                                Traceback (most recent call last)",
      "\u001b[0;32m<ipython-input-55-b924482d4e76>\u001b[0m in \u001b[0;36m<module>\u001b[0;34m()\u001b[0m\n\u001b[1;32m      4\u001b[0m     \u001b[0mvalue\u001b[0m \u001b[0;34m=\u001b[0m \u001b[0msplit_hashtag_to_words_all_possibilities\u001b[0m\u001b[0;34m(\u001b[0m\u001b[0mtag\u001b[0m\u001b[0;34m)\u001b[0m\u001b[0;34m\u001b[0m\u001b[0m\n\u001b[1;32m      5\u001b[0m     \u001b[0;32mprint\u001b[0m \u001b[0mvalue\u001b[0m\u001b[0;34m\u001b[0m\u001b[0m\n\u001b[0;32m----> 6\u001b[0;31m     \u001b[0mfirsttoken\u001b[0m \u001b[0;34m=\u001b[0m \u001b[0mvalue\u001b[0m\u001b[0;34m[\u001b[0m\u001b[0;36m0\u001b[0m\u001b[0;34m]\u001b[0m\u001b[0;34m\u001b[0m\u001b[0m\n\u001b[0m\u001b[1;32m      7\u001b[0m     \u001b[0msplittoken\u001b[0m\u001b[0;34m.\u001b[0m\u001b[0mappend\u001b[0m\u001b[0;34m(\u001b[0m\u001b[0mfirsttoken\u001b[0m\u001b[0;34m)\u001b[0m\u001b[0;34m\u001b[0m\u001b[0m\n\u001b[1;32m      8\u001b[0m     \u001b[0;32mprint\u001b[0m\u001b[0;34m(\u001b[0m\u001b[0mvalue\u001b[0m\u001b[0;34m[\u001b[0m\u001b[0;36m0\u001b[0m\u001b[0;34m]\u001b[0m\u001b[0;34m)\u001b[0m\u001b[0;34m\u001b[0m\u001b[0m\n",
      "\u001b[0;31mIndexError\u001b[0m: list index out of range"
     ]
    }
   ],
   "source": [
    "splittoken=[]\n",
    "token = normalization(lines.decode('unicode_escape').encode('ascii','ignore'),stop)\n",
    "for tag in token:\n",
    "    value = split_hashtag_to_words_all_possibilities(tag)\n",
    "    print value\n",
    "    firsttoken = value[0]\n",
    "    splittoken.append(firsttoken)\n",
    "    print(value[0])\n",
    "count_all.update(splittoken)"
   ]
  },
  {
   "cell_type": "code",
   "execution_count": null,
   "metadata": {},
   "outputs": [],
   "source": [
    "print(count_all.most_common(50))"
   ]
  }
 ],
 "metadata": {
  "kernelspec": {
   "display_name": "Python 2",
   "language": "python",
   "name": "python2"
  },
  "language_info": {
   "codemirror_mode": {
    "name": "ipython",
    "version": 2
   },
   "file_extension": ".py",
   "mimetype": "text/x-python",
   "name": "python",
   "nbconvert_exporter": "python",
   "pygments_lexer": "ipython2",
   "version": "2.7.14"
  }
 },
 "nbformat": 4,
 "nbformat_minor": 2
}
