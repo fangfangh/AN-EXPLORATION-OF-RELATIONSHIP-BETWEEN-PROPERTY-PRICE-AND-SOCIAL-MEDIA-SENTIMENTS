{
 "cells": [
  {
   "cell_type": "code",
   "execution_count": 1,
   "metadata": {},
   "outputs": [],
   "source": [
    "import couchdb\n",
    "import json\n",
    "import re"
   ]
  },
  {
   "cell_type": "code",
   "execution_count": 14,
   "metadata": {},
   "outputs": [],
   "source": [
    "# info for couch DB\n",
    "user = \"admin\"\n",
    "password = \"mancaoanling\"\n",
    "# info to retrieve view\n",
    "dbname = \"perth-tweets\"\n",
    "design = \"tweets\"\n",
    "view = \"place-view\"\n",
    "# connects to couchDB\n",
    "couch = couchdb.Server(\"http://%s:%s@43.240.96.93:5984//\" % (user, password))\n",
    "#couch = couchdb.Server(\"http://%s:%s@45.113.232.90:5984//\" % (user, password))\n",
    "# requesting exist view from database\n",
    " \n",
    "\n",
    "counts = couch[dbname].view(design+'/'+view,\n",
    "                            reduce=False,\n",
    "                            descending=True)"
   ]
  },
  {
   "cell_type": "code",
   "execution_count": 15,
   "metadata": {},
   "outputs": [],
   "source": [
    "# save it locally for further manipulate\n",
    "#,ensure_ascii=False\n",
    "tweets = []\n",
    "for count in counts:\n",
    "    tweet = json.dumps(count['value'])  \n",
    "    tweets.append(tweet)\n",
    "# check duplicates by tweets\n",
    "seen = set()\n",
    "for x in tweets: \n",
    "    if x not in seen:\n",
    "        seen.add(x)"
   ]
  },
  {
   "cell_type": "code",
   "execution_count": 11,
   "metadata": {},
   "outputs": [
    {
     "name": "stdout",
     "output_type": "stream",
     "text": [
      "7406\n"
     ]
    }
   ],
   "source": [
    "print len(tweets)"
   ]
  },
  {
   "cell_type": "code",
   "execution_count": 12,
   "metadata": {},
   "outputs": [
    {
     "name": "stdout",
     "output_type": "stream",
     "text": [
      "803\n"
     ]
    }
   ],
   "source": [
    "print len(seen)"
   ]
  },
  {
   "cell_type": "code",
   "execution_count": 72,
   "metadata": {},
   "outputs": [
    {
     "name": "stdout",
     "output_type": "stream",
     "text": [
      "done\n"
     ]
    }
   ],
   "source": [
    "# write to new json file\n",
    "\n",
    "#with open('perthins-geo.json' ,'w') as nf, open('sydneyall-tweets.json', 'w') as b:\n",
    "with open('property-view-perth.json' ,'w') as nf:\n",
    "    geo_data = {\n",
    "            \"type\": \"FeatureCollection\",\n",
    "            \"features\": []  }\n",
    "    for values in seen:  \n",
    "        #save the tweet into the document along with the sentiment result\n",
    "        y= json.loads(values)   \n",
    "        nf.write(json.dumps(y[0]))\n",
    "        nf.write(\",\")\n",
    "        nf.write(json.dumps(y[1])) \n",
    "        nf.write(\"\\n\")\n",
    "        #text = json.dumps(y[1])\n",
    "        #text1 = re.sub(r\"\\n\", \" \", text)\n",
    "        #text2=text1.decode('unicode_escape').encode('ascii','ignore')\n",
    "        #b.write(text)\n",
    "        #b.write(\"\\n\")\n",
    "        \n",
    "        geo_json_feature = {\n",
    "            \"type\": \"Feature\",\n",
    "            \"geometry\": {\n",
    "            \"type\": \"Point\",\n",
    "            \"coordinates\": y[0]},\n",
    "            \"properties\": {\n",
    "             \"text\": [],\n",
    "             \"created_at\": []\n",
    "                }\n",
    "            }\n",
    "        geo_data['features'].append(geo_json_feature)\n",
    "\n",
    "# print out the total score, count and average score per tweet\n",
    "\n",
    "# Save geo data\n",
    "with open('property-view-perth-geo.json', 'w') as fout:\n",
    "    fout.write(json.dumps(geo_data, indent=4))\n",
    "    #fout.write(json.dumps(geo_data))\n",
    "            \n",
    "print('done')\n",
    "\n"
   ]
  },
  {
   "cell_type": "code",
   "execution_count": 98,
   "metadata": {},
   "outputs": [],
   "source": [
    "with open('2015-sydneytw.json' ,'w') as nf, open('2015-sydneytw-text.json', 'w') as b:\n",
    "#with open('qiao-perthins.json' ,'w') as nf: \n",
    "    for values in seen:  \n",
    "        #save the tweet into the document along with the sentiment result\n",
    "        y= json.loads(values)   \n",
    "        nf.write(json.dumps(y[0]))\n",
    "        nf.write(\",\")\n",
    "        nf.write(json.dumps(y[1])) \n",
    "        nf.write(\",\")\n",
    "        nf.write(json.dumps(y[2]))\n",
    "        nf.write(\"\\n\")\n",
    "        text = json.dumps(y[1])\n",
    "        #text1 = re.sub(r\"\\n\", \" \", text)\n",
    "        #text2=text1.decode('unicode_escape').encode('ascii','ignore')\n",
    "        b.write(text)\n",
    "        b.write(\"\\n\")\n",
    "        \n",
    " "
   ]
  },
  {
   "cell_type": "code",
   "execution_count": null,
   "metadata": {},
   "outputs": [],
   "source": [
    "108"
   ]
  },
  {
   "cell_type": "code",
   "execution_count": 50,
   "metadata": {},
   "outputs": [],
   "source": [
    "keywords= [\"forrent\",\"forlease\",\"rentinperth\",\"perthleasing\",\"rentalproperty\",\"leasingproperty\",\"leasingnow\",\"perthrentals\",\"rentals\",\"rented\",\"rentals\",\"roomforrent\",\"apartmentforrent\",\"shorttermrental\",\"perthrent\",\"lease\", \"rent\",\"leasing\",'landlord','inspection','tenant']\n",
    "\n"
   ]
  },
  {
   "cell_type": "code",
   "execution_count": 48,
   "metadata": {},
   "outputs": [],
   "source": [
    "text = \"[perthleasng, community, property, people, fnre, perthlsing,pertrealetate, mountlawley, weputyoufirst, fnregenesis]\""
   ]
  },
  {
   "cell_type": "code",
   "execution_count": 49,
   "metadata": {},
   "outputs": [],
   "source": [
    "if any(keyword in text for keyword in keywords):\n",
    "    print('yes')"
   ]
  },
  {
   "cell_type": "code",
   "execution_count": null,
   "metadata": {},
   "outputs": [],
   "source": [
    " open('perth-rent-insview.json', 'w') as b:\n",
    "    "
   ]
  },
  {
   "cell_type": "code",
   "execution_count": 16,
   "metadata": {},
   "outputs": [
    {
     "name": "stdout",
     "output_type": "stream",
     "text": [
      "done\n"
     ]
    }
   ],
   "source": [
    "with open('place-view-perth.json' ,'w') as nf:\n",
    "    geo_data = {\n",
    "            \"type\": \"FeatureCollection\",\n",
    "            \"features\": []  }\n",
    "    for values in tweets:  \n",
    "        #save the tweet into the document along with the sentiment result\n",
    "        y= json.loads(values)   \n",
    "        nf.write(json.dumps(y[0])) \n",
    "        nf.write(\"\\n\")\n",
    "        #text = json.dumps(y[1])\n",
    "        #text1 = re.sub(r\"\\n\", \" \", text)\n",
    "        #text2=text1.decode('unicode_escape').encode('ascii','ignore')\n",
    "        #b.write(text)\n",
    "        #b.write(\"\\n\")\n",
    "        \n",
    "        geo_json_feature = {\n",
    "            \"type\": \"Feature\",\n",
    "            \"geometry\": {\n",
    "            \"type\": \"Point\",\n",
    "            \"coordinates\": y[0]},\n",
    "            \"properties\": {\n",
    "             \"text\": [],\n",
    "             \"created_at\": []\n",
    "                }\n",
    "            }\n",
    "        geo_data['features'].append(geo_json_feature)\n",
    "\n",
    "# print out the total score, count and average score per tweet\n",
    "\n",
    "# Save geo data\n",
    "with open('place-view-perth-geo-tw.json', 'w') as fout:\n",
    "    fout.write(json.dumps(geo_data, indent=4))\n",
    "    #fout.write(json.dumps(geo_data))\n",
    "            \n",
    "print('done')\n"
   ]
  },
  {
   "cell_type": "code",
   "execution_count": null,
   "metadata": {},
   "outputs": [],
   "source": []
  }
 ],
 "metadata": {
  "kernelspec": {
   "display_name": "Python 2",
   "language": "python",
   "name": "python2"
  },
  "language_info": {
   "codemirror_mode": {
    "name": "ipython",
    "version": 2
   },
   "file_extension": ".py",
   "mimetype": "text/x-python",
   "name": "python",
   "nbconvert_exporter": "python",
   "pygments_lexer": "ipython2",
   "version": "2.7.14"
  }
 },
 "nbformat": 4,
 "nbformat_minor": 2
}
